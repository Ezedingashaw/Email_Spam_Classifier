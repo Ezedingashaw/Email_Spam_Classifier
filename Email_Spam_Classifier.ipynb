{
 "cells": [
  {
   "cell_type": "markdown",
   "id": "652c214f-75b2-4990-bdfc-0fe9681b012d",
   "metadata": {},
   "source": [
    "# Email Spam Classifier Project\n",
    "\n",
    "## Topic Selection\n",
    "**Problem Statement**: This project aims to build a machine learning model to classify emails as spam or ham based on their text content, enabling efficient email filtering.\n",
    "**Significance**: Spam emails clutter inboxes and pose security risks like phishing. An automated classifier improves user experience by filtering unwanted emails.\n",
    "**Why Chosen**: This problem is ideal for learning text classification, with readily available datasets and straightforward algorithms like Naive Bayes, suitable for a beginner-level project."
   ]
  },
  {
   "cell_type": "markdown",
   "id": "fcdae789-2584-4009-a82a-5055cf10bc69",
   "metadata": {},
   "source": [
    "## Data Annotation & Preparation\n",
    "\n",
    "### Annotation\n",
    "The UCI Spambase Dataset is designed for supervised learning, with the last column providing binary labels (1 = spam, 0 = ham). This section verifies the presence and validity of labels, confirming no additional annotation is needed.\n",
    "\n",
    "### Initial Cleaning\n",
    "- Load the dataset, handling `spambase.csv`.\n",
    "- Check for missing values, duplicates, and invalid data (e.g., non-numerical features, invalid labels).\n",
    "- Provide summary statistics to understand feature distribution."
   ]
  },
  {
   "cell_type": "markdown",
   "id": "ba6859c1-1bbd-4ead-a7d1-73c80f87a75f",
   "metadata": {},
   "source": [
    "Annotate,Prepare and Load Data\n",
    "Loads the UCI Spambase Dataset and assigns column names."
   ]
  },
  {
   "cell_type": "code",
   "execution_count": 12,
   "id": "f4d74dd7-8216-4920-a704-1e1e48a8a061",
   "metadata": {},
   "outputs": [
    {
     "name": "stdout",
     "output_type": "stream",
     "text": [
      "Dataset loaded from spambase.csv (no headers)\n",
      "Dataset shape: (4601, 58)\n",
      "\n",
      "Annotation Check:\n",
      "Label unique values: [1 0]\n",
      "Labels valid: All values are 0 or 1 (ham or spam). No annotation needed.\n",
      "Label distribution:\n",
      "57\n",
      "0    0.605955\n",
      "1    0.394045\n",
      "Name: proportion, dtype: float64\n",
      "\n",
      "Missing values: 0\n",
      "Duplicate rows: 391\n",
      "Removed 391 duplicate rows. New shape: (4210, 58)\n",
      "Invalid (negative) feature values: 0\n",
      "\n",
      "Feature summary:\n",
      "                0            1            2            3            4   \\\n",
      "count  4210.000000  4210.000000  4210.000000  4210.000000  4210.000000   \n",
      "mean      0.104366     0.112656     0.291473     0.063078     0.325321   \n",
      "std       0.300005     0.454260     0.515719     1.352487     0.687805   \n",
      "min       0.000000     0.000000     0.000000     0.000000     0.000000   \n",
      "25%       0.000000     0.000000     0.000000     0.000000     0.000000   \n",
      "50%       0.000000     0.000000     0.000000     0.000000     0.000000   \n",
      "75%       0.000000     0.000000     0.440000     0.000000     0.410000   \n",
      "max       4.540000    14.280000     5.100000    42.810000    10.000000   \n",
      "\n",
      "                5            6            7            8            9   ...  \\\n",
      "count  4210.000000  4210.000000  4210.000000  4210.000000  4210.000000  ...   \n",
      "mean      0.096656     0.117475     0.108000     0.091860     0.248420  ...   \n",
      "std       0.276030     0.397284     0.410282     0.282144     0.656638  ...   \n",
      "min       0.000000     0.000000     0.000000     0.000000     0.000000  ...   \n",
      "25%       0.000000     0.000000     0.000000     0.000000     0.000000  ...   \n",
      "50%       0.000000     0.000000     0.000000     0.000000     0.000000  ...   \n",
      "75%       0.000000     0.000000     0.000000     0.000000     0.190000  ...   \n",
      "max       5.880000     7.270000    11.110000     5.260000    18.180000  ...   \n",
      "\n",
      "                47           48           49           50           51  \\\n",
      "count  4210.000000  4210.000000  4210.000000  4210.000000  4210.000000   \n",
      "mean      0.034746     0.040403     0.144048     0.017376     0.281136   \n",
      "std       0.298521     0.252533     0.274256     0.105731     0.843321   \n",
      "min       0.000000     0.000000     0.000000     0.000000     0.000000   \n",
      "25%       0.000000     0.000000     0.000000     0.000000     0.000000   \n",
      "50%       0.000000     0.000000     0.073000     0.000000     0.016000   \n",
      "75%       0.000000     0.000000     0.194000     0.000000     0.331000   \n",
      "max      10.000000     4.385000     9.752000     4.081000    32.478000   \n",
      "\n",
      "                52           53           54           55            56  \n",
      "count  4210.000000  4210.000000  4210.000000  4210.000000   4210.000000  \n",
      "mean      0.076057     0.045798     5.383896    52.139905    291.181948  \n",
      "std       0.239708     0.435925    33.147358   199.582168    618.654838  \n",
      "min       0.000000     0.000000     1.000000     1.000000      1.000000  \n",
      "25%       0.000000     0.000000     1.627500     7.000000     40.000000  \n",
      "50%       0.000000     0.000000     2.297000    15.000000    101.500000  \n",
      "75%       0.053000     0.000000     3.706750    44.000000    273.750000  \n",
      "max       6.003000    19.829000  1102.500000  9989.000000  15841.000000  \n",
      "\n",
      "[8 rows x 57 columns]\n",
      "\n",
      "First few rows:\n",
      "   feature_0  feature_1  feature_2  feature_3  feature_4  feature_5  \\\n",
      "0       0.00       0.64       0.64        0.0       0.32       0.00   \n",
      "1       0.21       0.28       0.50        0.0       0.14       0.28   \n",
      "2       0.06       0.00       0.71        0.0       1.23       0.19   \n",
      "3       0.00       0.00       0.00        0.0       0.63       0.00   \n",
      "4       0.00       0.00       0.00        0.0       0.63       0.00   \n",
      "\n",
      "   feature_6  feature_7  feature_8  feature_9  ...  feature_48  feature_49  \\\n",
      "0       0.00       0.00       0.00       0.00  ...        0.00       0.000   \n",
      "1       0.21       0.07       0.00       0.94  ...        0.00       0.132   \n",
      "2       0.19       0.12       0.64       0.25  ...        0.01       0.143   \n",
      "3       0.31       0.63       0.31       0.63  ...        0.00       0.137   \n",
      "4       0.31       0.63       0.31       0.63  ...        0.00       0.135   \n",
      "\n",
      "   feature_50  feature_51  feature_52  feature_53  feature_54  feature_55  \\\n",
      "0         0.0       0.778       0.000       0.000       3.756          61   \n",
      "1         0.0       0.372       0.180       0.048       5.114         101   \n",
      "2         0.0       0.276       0.184       0.010       9.821         485   \n",
      "3         0.0       0.137       0.000       0.000       3.537          40   \n",
      "4         0.0       0.135       0.000       0.000       3.537          40   \n",
      "\n",
      "   feature_56  label  \n",
      "0         278      1  \n",
      "1        1028      1  \n",
      "2        2259      1  \n",
      "3         191      1  \n",
      "4         191      1  \n",
      "\n",
      "[5 rows x 58 columns]\n"
     ]
    }
   ],
   "source": [
    "# Import required libraries\n",
    "import pandas as pd\n",
    "import numpy as np\n",
    "\n",
    "# Load the dataset\n",
    "try:\n",
    "    data = pd.read_csv('spambase.csv', header=None)\n",
    "    print(\"Dataset loaded from spambase.csv (no headers)\")\n",
    "    # Check for header-like values in first row\n",
    "    if data.iloc[0].astype(str).str.contains('word_freq|class', case=False).any():\n",
    "        print(\"Header row detected. Skipping first row...\")\n",
    "        data = pd.read_csv('spambase.csv', header=0)\n",
    "except FileNotFoundError:\n",
    "    try:\n",
    "        data = pd.read_csv('spambase.data', header=None)\n",
    "        print(\"Dataset loaded from spambase.data (no headers)\")\n",
    "        if data.iloc[0].astype(str).str.contains('word_freq|class', case=False).any():\n",
    "            print(\"Header row detected. Skipping first row...\")\n",
    "            data = pd.read_csv('spambase.data', header=0)\n",
    "    except FileNotFoundError:\n",
    "        print(\"Local dataset not found. Downloading programmatically...\")\n",
    "        try:\n",
    "            from ucimlrepo import fetch_ucirepo\n",
    "            spambase = fetch_ucirepo(id=94)\n",
    "            X = spambase.data.features\n",
    "            y = spambase.data.targets\n",
    "            data = pd.concat([X, y], axis=1)\n",
    "            data.to_csv('spambase.csv', index=False, header=False)\n",
    "            print(\"Dataset fetched and saved as spambase.csv\")\n",
    "        except Exception as e:\n",
    "            print(f\"Error downloading dataset: {e}\")\n",
    "            print(\"Please download spambase.data from https://archive.ics.uci.edu/dataset/94/spambase\")\n",
    "            raise\n",
    "\n",
    "# Verify data shape\n",
    "print(f\"Dataset shape: {data.shape}\")  # Expected: (4601, 58)\n",
    "\n",
    "# Annotation: Check labels\n",
    "label_col = data.iloc[:, -1]\n",
    "print(\"\\nAnnotation Check:\")\n",
    "print(f\"Label unique values: {label_col.unique()}\")\n",
    "if not label_col.isin([0, 1]).all():\n",
    "    print(\"Warning: Invalid labels detected (not 0 or 1).\")\n",
    "else:\n",
    "    print(\"Labels valid: All values are 0 or 1 (ham or spam). No annotation needed.\")\n",
    "print(f\"Label distribution:\\n{label_col.value_counts(normalize=True)}\")\n",
    "\n",
    "# Convert data types\n",
    "if data.iloc[:, :-1].dtypes.apply(lambda x: x == object).any():\n",
    "    print(\"Converting non-numerical features to float...\")\n",
    "    try:\n",
    "        data.iloc[:, :-1] = data.iloc[:, :-1].apply(pd.to_numeric, errors='raise')\n",
    "    except Exception as e:\n",
    "        print(f\"Error converting features: {e}\")\n",
    "        raise\n",
    "if data.iloc[:, -1].dtype != np.int64:\n",
    "    print(\"Converting label to integer...\")\n",
    "    try:\n",
    "        data.iloc[:, -1] = pd.to_numeric(data.iloc[:, -1], errors='raise').astype(np.int64)\n",
    "    except Exception as e:\n",
    "        print(f\"Error converting label: {e}\")\n",
    "        raise\n",
    "\n",
    "# Check for missing values\n",
    "missing_values = data.isna().sum().sum()\n",
    "print(f\"\\nMissing values: {missing_values}\")\n",
    "if missing_values > 0:\n",
    "    print(\"Filling missing values with 0 (suitable for frequency features).\")\n",
    "    data = data.fillna(0)\n",
    "\n",
    "# Check for duplicates\n",
    "duplicates = data.duplicated().sum()\n",
    "print(f\"Duplicate rows: {duplicates}\")\n",
    "if duplicates > 0:\n",
    "    data = data.drop_duplicates()\n",
    "    print(f\"Removed {duplicates} duplicate rows. New shape: {data.shape}\")\n",
    "\n",
    "# Check for invalid feature values (frequencies should be non-negative)\n",
    "invalid_features = (data.iloc[:, :-1] < 0).sum().sum()\n",
    "print(f\"Invalid (negative) feature values: {invalid_features}\")\n",
    "\n",
    "# Summary statistics\n",
    "print(\"\\nFeature summary:\")\n",
    "print(data.iloc[:, :-1].describe())\n",
    "\n",
    "# Assign column names\n",
    "columns = [f'feature_{i}' for i in range(57)] + ['label']\n",
    "data.columns = columns\n",
    "\n",
    "# Display first few rows\n",
    "print(\"\\nFirst few rows:\")\n",
    "print(data.head())"
   ]
  },
  {
   "cell_type": "markdown",
   "id": "a6c4105a-79b5-41e3-9b0e-6c9cbafd69bd",
   "metadata": {},
   "source": [
    "### Preprocessing\n",
    "- **Normalization/Scaling**: Standardize features (mean = 0, variance = 1) for Logistic Regression and SVM using `StandardScaler`. Retain raw features for Multinomial Naive Bayes, as they are frequency-like and suitable.\n",
    "- **Prepare for Splitting**: Separate features (X) and labels (y) for training."
   ]
  },
  {
   "cell_type": "code",
   "execution_count": 13,
   "id": "c30646ae-8cac-4a9f-944c-de0c2b35e948",
   "metadata": {
    "collapsed": true,
    "jupyter": {
     "outputs_hidden": true
    }
   },
   "outputs": [
    {
     "name": "stdout",
     "output_type": "stream",
     "text": [
      "Features standardized for Logistic Regression and SVM\n",
      "Raw features retained for Naive Bayes\n",
      "\n",
      "Scaled features sample:\n",
      "   feature_0  feature_1  feature_2  feature_3  feature_4  feature_5  \\\n",
      "0  -0.347922   1.161025   0.675889  -0.046644  -0.007737  -0.350205   \n",
      "1   0.352150   0.368433   0.404391  -0.046644  -0.269470   0.664297   \n",
      "2  -0.147901  -0.248027   0.811639  -0.046644   1.315470   0.338207   \n",
      "3  -0.347922  -0.248027  -0.565245  -0.046644   0.443026  -0.350205   \n",
      "4  -0.347922  -0.248027  -0.565245  -0.046644   0.443026  -0.350205   \n",
      "\n",
      "   feature_6  feature_7  feature_8  feature_9  ...  feature_47  feature_48  \\\n",
      "0  -0.295731  -0.263265  -0.325617  -0.378366  ...   -0.116407   -0.160010   \n",
      "1   0.232922  -0.092630  -0.325617   1.053337  ...   -0.116407   -0.160010   \n",
      "2   0.182574   0.029252   1.943000   0.002406  ...   -0.116407   -0.120407   \n",
      "3   0.484661   1.272445   0.773244   0.581180  ...   -0.116407   -0.160010   \n",
      "4   0.484661   1.272445   0.773244   0.581180  ...   -0.116407   -0.160010   \n",
      "\n",
      "   feature_49  feature_50  feature_51  feature_52  feature_53  feature_54  \\\n",
      "0   -0.525294   -0.164364    0.589246   -0.317325   -0.105071   -0.049117   \n",
      "1   -0.043936   -0.164364    0.107759    0.433676    0.005053   -0.008143   \n",
      "2   -0.003822   -0.164364   -0.006090    0.450365   -0.082129    0.133876   \n",
      "3   -0.025702   -0.164364   -0.170935   -0.317325   -0.105071   -0.055724   \n",
      "4   -0.032996   -0.164364   -0.173306   -0.317325   -0.105071   -0.055724   \n",
      "\n",
      "   feature_55  feature_56  \n",
      "0    0.044398   -0.021310  \n",
      "1    0.244841    1.191142  \n",
      "2    2.169089    3.181179  \n",
      "3   -0.060834   -0.161954  \n",
      "4   -0.060834   -0.161954  \n",
      "\n",
      "[5 rows x 57 columns]\n"
     ]
    }
   ],
   "source": [
    "# Import preprocessing tools\n",
    "from sklearn.preprocessing import StandardScaler\n",
    "\n",
    "# Separate features and labels\n",
    "X = data.iloc[:, :-1]  # 57 features\n",
    "y = data.iloc[:, -1]   # Labels (1 = spam, 0 = ham)\n",
    "\n",
    "# Standardize features for Logistic Regression and SVM\n",
    "scaler = StandardScaler()\n",
    "X_scaled = scaler.fit_transform(X)\n",
    "X_scaled = pd.DataFrame(X_scaled, columns=X.columns)\n",
    "\n",
    "# For Naive Bayes, use raw features\n",
    "X_nb = X.copy()\n",
    "\n",
    "print(\"Features standardized for Logistic Regression and SVM\")\n",
    "print(\"Raw features retained for Naive Bayes\")\n",
    "print(\"\\nScaled features sample:\")\n",
    "print(X_scaled.head())"
   ]
  },
  {
   "cell_type": "markdown",
   "id": "211139d6-4611-4f5b-a7bf-706ee6814e2b",
   "metadata": {},
   "source": [
    "Split Data\n",
    "Splits the dataset into 80% training and 20% testing sets."
   ]
  },
  {
   "cell_type": "code",
   "execution_count": 2,
   "id": "509201b5-64a4-49b5-abfc-05f7ea8fda0b",
   "metadata": {
    "collapsed": true,
    "jupyter": {
     "outputs_hidden": true
    }
   },
   "outputs": [
    {
     "name": "stdout",
     "output_type": "stream",
     "text": [
      "Training set size: 3680 instances\n",
      "Test set size: 921 instances\n",
      "X_train dtypes:\n",
      " feature_0     float64\n",
      "feature_1     float64\n",
      "feature_2     float64\n",
      "feature_3     float64\n",
      "feature_4     float64\n",
      "feature_5     float64\n",
      "feature_6     float64\n",
      "feature_7     float64\n",
      "feature_8     float64\n",
      "feature_9     float64\n",
      "feature_10    float64\n",
      "feature_11    float64\n",
      "feature_12    float64\n",
      "feature_13    float64\n",
      "feature_14    float64\n",
      "feature_15    float64\n",
      "feature_16    float64\n",
      "feature_17    float64\n",
      "feature_18    float64\n",
      "feature_19    float64\n",
      "feature_20    float64\n",
      "feature_21    float64\n",
      "feature_22    float64\n",
      "feature_23    float64\n",
      "feature_24    float64\n",
      "feature_25    float64\n",
      "feature_26    float64\n",
      "feature_27    float64\n",
      "feature_28    float64\n",
      "feature_29    float64\n",
      "feature_30    float64\n",
      "feature_31    float64\n",
      "feature_32    float64\n",
      "feature_33    float64\n",
      "feature_34    float64\n",
      "feature_35    float64\n",
      "feature_36    float64\n",
      "feature_37    float64\n",
      "feature_38    float64\n",
      "feature_39    float64\n",
      "feature_40    float64\n",
      "feature_41    float64\n",
      "feature_42    float64\n",
      "feature_43    float64\n",
      "feature_44    float64\n",
      "feature_45    float64\n",
      "feature_46    float64\n",
      "feature_47    float64\n",
      "feature_48    float64\n",
      "feature_49    float64\n",
      "feature_50    float64\n",
      "feature_51    float64\n",
      "feature_52    float64\n",
      "feature_53    float64\n",
      "feature_54    float64\n",
      "feature_55      int64\n",
      "feature_56      int64\n",
      "dtype: object\n"
     ]
    }
   ],
   "source": [
    "from sklearn.model_selection import train_test_split\n",
    "\n",
    "X = data.iloc[:, :-1]  # 57 features\n",
    "y = data.iloc[:, -1]   # Label (1 = spam, 0 = ham)\n",
    "\n",
    "X_train, X_test, y_train, y_test = train_test_split(X, y, test_size=0.2, random_state=42)\n",
    "print(f\"Training set size: {X_train.shape[0]} instances\")\n",
    "print(f\"Test set size: {X_test.shape[0]} instances\")\n",
    "print(\"X_train dtypes:\\n\", X_train.dtypes)  # Should be float64/int64"
   ]
  },
  {
   "cell_type": "markdown",
   "id": "7d5906eb-9d1e-4446-9ac6-28a7152d0875",
   "metadata": {},
   "source": [
    "Train Models\n",
    "Trains Naive Bayes and Logistic Regression from scratch."
   ]
  },
  {
   "cell_type": "markdown",
   "id": "0fefd767-3e5e-449b-a314-a7a37a304d94",
   "metadata": {},
   "source": [
    "# Algorithm Selection and Justification\n",
    "\n",
    "## Selected Algorithms\n",
    "1. **Naive Bayes (Multinomial)**:\n",
    "   - **Description**: A probabilistic classifier that uses Bayes’ theorem, assuming feature independence, tailored for discrete data like word frequencies.\n",
    "   - **Why Chosen**: Naive Bayes is highly effective for text classification tasks, such as spam filtering, due to its simplicity, speed, and strong performance on high-dimensional data like the Spambase dataset’s 57 frequency-based features. It is robust to the dataset’s slight class imbalance (39% spam, 61% ham) and requires minimal computational resources.\n",
    "2. **Logistic Regression**:\n",
    "   - **Description**: A linear model that predicts the probability of an email being spam or ham by learning feature weights.\n",
    "   - **Why Chosen**: Logistic Regression is a simple, interpretable, and effective baseline for binary classification. It handles the Spambase dataset’s numerical features well, and its regularization prevents overfitting, making it suitable for a dataset with 57 features.\n",
    "3. **Support Vector Machine (SVM, Linear Kernel) [Optional]**:\n",
    "   - **Description**: A classifier that finds the optimal hyperplane to separate spam and ham emails, maximizing the margin between classes.\n",
    "   - **Why Chosen**: SVM is effective for high-dimensional datasets and robust to noise, making it a good candidate for the Spambase dataset. It is included to compare with simpler models, though its computational cost is higher.\n",
    "\n",
    "## Justification\n",
    "These algorithms were selected because they are well-suited for binary classification with numerical features, as provided by the UCI Spambase Dataset. Naive Bayes excels in text-related tasks and is computationally efficient, Logistic Regression provides a robust and interpretable baseline, and SVM (optional) offers a more complex approach for experimentation. All are implementable in scikit-learn, aligning with the project’s Python recommendation and allowing for straightforward training and evaluation."
   ]
  },
  {
   "cell_type": "code",
   "execution_count": 3,
   "id": "8b001fad-7c69-434c-922f-8c32eb5cacee",
   "metadata": {
    "collapsed": true,
    "jupyter": {
     "outputs_hidden": true
    }
   },
   "outputs": [
    {
     "name": "stdout",
     "output_type": "stream",
     "text": [
      "Any negative values in X_train? False\n",
      "X_train dtypes:\n",
      " feature_0     float64\n",
      "feature_1     float64\n",
      "feature_2     float64\n",
      "feature_3     float64\n",
      "feature_4     float64\n",
      "feature_5     float64\n",
      "feature_6     float64\n",
      "feature_7     float64\n",
      "feature_8     float64\n",
      "feature_9     float64\n",
      "feature_10    float64\n",
      "feature_11    float64\n",
      "feature_12    float64\n",
      "feature_13    float64\n",
      "feature_14    float64\n",
      "feature_15    float64\n",
      "feature_16    float64\n",
      "feature_17    float64\n",
      "feature_18    float64\n",
      "feature_19    float64\n",
      "feature_20    float64\n",
      "feature_21    float64\n",
      "feature_22    float64\n",
      "feature_23    float64\n",
      "feature_24    float64\n",
      "feature_25    float64\n",
      "feature_26    float64\n",
      "feature_27    float64\n",
      "feature_28    float64\n",
      "feature_29    float64\n",
      "feature_30    float64\n",
      "feature_31    float64\n",
      "feature_32    float64\n",
      "feature_33    float64\n",
      "feature_34    float64\n",
      "feature_35    float64\n",
      "feature_36    float64\n",
      "feature_37    float64\n",
      "feature_38    float64\n",
      "feature_39    float64\n",
      "feature_40    float64\n",
      "feature_41    float64\n",
      "feature_42    float64\n",
      "feature_43    float64\n",
      "feature_44    float64\n",
      "feature_45    float64\n",
      "feature_46    float64\n",
      "feature_47    float64\n",
      "feature_48    float64\n",
      "feature_49    float64\n",
      "feature_50    float64\n",
      "feature_51    float64\n",
      "feature_52    float64\n",
      "feature_53    float64\n",
      "feature_54    float64\n",
      "feature_55      int64\n",
      "feature_56      int64\n",
      "dtype: object\n",
      "Any non-numerical values in X_train? False\n",
      "Training models...\n",
      "Naive Bayes training completed\n",
      "Logistic Regression training completed\n"
     ]
    }
   ],
   "source": [
    "from sklearn.naive_bayes import MultinomialNB\n",
    "from sklearn.linear_model import LogisticRegression\n",
    "from sklearn.preprocessing import MinMaxScaler\n",
    "import warnings\n",
    "warnings.filterwarnings('ignore')\n",
    "\n",
    "# Check for negative values in X_train\n",
    "print(\"Any negative values in X_train?\", (X_train < 0).any().any())\n",
    "\n",
    "# Scale features if negative values are found (for MultinomialNB)\n",
    "if (X_train < 0).any().any():\n",
    "    print(\"Negative values detected. Scaling features to non-negative using MinMaxScaler...\")\n",
    "    scaler = MinMaxScaler()\n",
    "    X_train = scaler.fit_transform(X_train)\n",
    "    X_test = scaler.transform(X_test)\n",
    "    print(\"Features scaled successfully\")\n",
    "\n",
    "# Verify data is numerical\n",
    "print(\"X_train dtypes:\\n\", X_train.dtypes)  # Should all be float64 or int64\n",
    "print(\"Any non-numerical values in X_train?\", X_train.select_dtypes(include='object').columns.any())\n",
    "\n",
    "nb_model = MultinomialNB()\n",
    "lr_model = LogisticRegression(max_iter=1000)\n",
    "\n",
    "print(\"Training models...\")\n",
    "nb_model.fit(X_train, y_train)\n",
    "print(\"Naive Bayes training completed\")\n",
    "lr_model.fit(X_train, y_train)\n",
    "print(\"Logistic Regression training completed\")"
   ]
  },
  {
   "cell_type": "markdown",
   "id": "a25e9a42-7d63-4bd5-b87d-746d365e0ea9",
   "metadata": {},
   "source": [
    "Generate Predictions\n",
    "Predicts labels on the test set."
   ]
  },
  {
   "cell_type": "code",
   "execution_count": 4,
   "id": "5b68d2b7-f79f-4b86-a933-b148e881257b",
   "metadata": {},
   "outputs": [
    {
     "name": "stdout",
     "output_type": "stream",
     "text": [
      "Predictions generated\n"
     ]
    }
   ],
   "source": [
    "nb_predictions = nb_model.predict(X_test)\n",
    "lr_predictions = lr_model.predict(X_test)\n",
    "print(\"Predictions generated\")"
   ]
  },
  {
   "cell_type": "markdown",
   "id": "6abd3923-3130-412a-aa6a-8f25f04b7a91",
   "metadata": {},
   "source": [
    "# Model Evaluation\n",
    "\n",
    "## Evaluation Metrics\n",
    "The performance of the Naive Bayes, Logistic Regression, and SVM (optional) models was evaluated on the test set (921 instances) using the following metrics:\n",
    "- **Accuracy**: Proportion of correctly classified emails.\n",
    "- **Precision**: Proportion of emails predicted as spam that are actually spam.\n",
    "- **Recall**: Proportion of actual spam emails correctly identified.\n",
    "- **F1 Score**: Harmonic mean of precision and recall.\n",
    "- **Confusion Matrix**: A 2x2 table showing true positives (TP), true negatives (TN), false positives (FP), and false negatives (FN)."
   ]
  },
  {
   "cell_type": "code",
   "execution_count": 5,
   "id": "91f3e8f8-811f-402b-a6e9-bbc8e0abd038",
   "metadata": {},
   "outputs": [
    {
     "name": "stdout",
     "output_type": "stream",
     "text": [
      "\n",
      "Evaluation for Naive Bayes:\n",
      "Accuracy: 0.7861\n",
      "Precision: 0.7644\n",
      "Recall: 0.7154\n",
      "F1 Score: 0.7391\n",
      "Confusion Matrix:\n",
      "[[445  86]\n",
      " [111 279]]\n",
      "\n",
      "Evaluation for Logistic Regression:\n",
      "Accuracy: 0.9207\n",
      "Precision: 0.9295\n",
      "Recall: 0.8795\n",
      "F1 Score: 0.9038\n",
      "Confusion Matrix:\n",
      "[[505  26]\n",
      " [ 47 343]]\n"
     ]
    }
   ],
   "source": [
    "from sklearn.metrics import accuracy_score, precision_score, recall_score, f1_score, confusion_matrix\n",
    "\n",
    "models = {\n",
    "    'Naive Bayes': nb_predictions,\n",
    "    'Logistic Regression': lr_predictions\n",
    "}\n",
    "\n",
    "for model_name, predictions in models.items():\n",
    "    print(f\"\\nEvaluation for {model_name}:\")\n",
    "    accuracy = accuracy_score(y_test, predictions)\n",
    "    precision = precision_score(y_test, predictions)\n",
    "    recall = recall_score(y_test, predictions)\n",
    "    f1 = f1_score(y_test, predictions)\n",
    "    cm = confusion_matrix(y_test, predictions)\n",
    "    print(f\"Accuracy: {accuracy:.4f}\")\n",
    "    print(f\"Precision: {precision:.4f}\")\n",
    "    print(f\"Recall: {recall:.4f}\")\n",
    "    print(f\"F1 Score: {f1:.4f}\")\n",
    "    print(f\"Confusion Matrix:\\n{cm}\")"
   ]
  },
  {
   "cell_type": "markdown",
   "id": "65f1a6f3-ff8a-4c97-b918-50e132eef1f2",
   "metadata": {},
   "source": [
    "Visualize Confusion Matrix\n",
    "Generates heatmaps for each model’s confusion matrix."
   ]
  },
  {
   "cell_type": "code",
   "execution_count": 6,
   "id": "92193c0b-79b8-47ea-abbc-c2251861b2f5",
   "metadata": {},
   "outputs": [
    {
     "data": {
      "image/png": "[encoded data removed]",
      "text/plain": [
       "<Figure size 600x400 with 2 Axes>"
      ]
     },
     "metadata": {},
     "output_type": "display_data"
    },
    {
     "data": {
      "image/png": "[encoded data removed]",
      "text/plain": [
       "<Figure size 600x400 with 2 Axes>"
      ]
     },
     "metadata": {},
     "output_type": "display_data"
    }
   ],
   "source": [
    "import seaborn as sns\n",
    "import matplotlib.pyplot as plt\n",
    "\n",
    "for model_name, predictions in models.items():\n",
    "    cm = confusion_matrix(y_test, predictions)\n",
    "    plt.figure(figsize=(6, 4))\n",
    "    sns.heatmap(cm, annot=True, fmt='d', cmap='Blues', \n",
    "                xticklabels=['Ham', 'Spam'], yticklabels=['Ham', 'Spam'])\n",
    "    plt.title(f'Confusion Matrix for {model_name}')\n",
    "    plt.xlabel('Predicted')\n",
    "    plt.ylabel('Actual')\n",
    "    plt.savefig(f'{model_name}_confusion_matrix.png')\n",
    "    plt.show()"
   ]
  },
  {
   "cell_type": "markdown",
   "id": "22923436-600d-4099-8d83-401ddf1b5eb1",
   "metadata": {},
   "source": [
    "Visualize Learning Curve\n",
    "Plots a learning curve for Naive Bayes."
   ]
  },
  {
   "cell_type": "code",
   "execution_count": 7,
   "id": "223854ab-430c-45fd-870b-42ab64ebb89e",
   "metadata": {
    "scrolled": true
   },
   "outputs": [
    {
     "data": {
      "image/png": "[encoded data removed]",
      "text/plain": [
       "<Figure size 800x600 with 1 Axes>"
      ]
     },
     "metadata": {},
     "output_type": "display_data"
    }
   ],
   "source": [
    "from sklearn.model_selection import learning_curve\n",
    "import numpy as np\n",
    "\n",
    "def plot_learning_curve(estimator, title, X, y):\n",
    "    train_sizes, train_scores, test_scores = learning_curve(\n",
    "        estimator, X, y, cv=5, n_jobs=-1, train_sizes=np.linspace(0.1, 1.0, 10))\n",
    "    train_scores_mean = np.mean(train_scores, axis=1)\n",
    "    test_scores_mean = np.mean(test_scores, axis=1)\n",
    "    \n",
    "    plt.figure(figsize=(8, 6))\n",
    "    plt.plot(train_sizes, train_scores_mean, label='Training Accuracy')\n",
    "    plt.plot(train_sizes, test_scores_mean, label='Validation Accuracy')\n",
    "    plt.title(title)\n",
    "    plt.xlabel('Training Examples')\n",
    "    plt.ylabel('Accuracy')\n",
    "    plt.legend(loc='best')\n",
    "    plt.grid(True)\n",
    "    plt.savefig('nb_learning_curve.png')\n",
    "    plt.show()\n",
    "\n",
    "plot_learning_curve(nb_model, 'Learning Curve for Naive Bayes', X, y)"
   ]
  },
  {
   "cell_type": "markdown",
   "id": "78d7e19a-54ac-45fa-b8a1-0908493e011a",
   "metadata": {},
   "source": [
    "# Model Evaluation\n",
    "\n",
    "## Results\n",
    "- **Naive Bayes**:\n",
    "  - Accuracy: 0.7861\n",
    "  - Precision: 0.7644\n",
    "  - Recall: 0.7154\n",
    "  - F1 Score: 0.7391\n",
    "  - Confusion Matrix: [[445  86]\n",
    " [111 279]]\n",
    "- **Logistic Regression**:\n",
    "  - Accuracy: 0.9207\n",
    "  - Precision: 0.9295\n",
    "  - Recall: 0.8795\n",
    "  - F1 Score: 0.9038\n",
    "  - Confusion Matrix:[[505  26]\n",
    " [ 47 343]]\n",
    "\n",
    "## Analysis\n",
    "- Logistic Regression likely achieved the highest accuracy and F1 score.\n",
    "- Naive Bayes was fast and effective for frequency-based features.\n",
    "- Low false positives ensure minimal misclassification of ham emails."
   ]
  },
  {
   "cell_type": "code",
   "execution_count": 2,
   "id": "aaacf125-7ee6-4c35-84b7-82f1a20c24de",
   "metadata": {},
   "outputs": [
    {
     "name": "stdout",
     "output_type": "stream",
     "text": [
      "C:\\Email_Spam_Classifier\n"
     ]
    }
   ],
   "source": [
    "import os\n",
    "print(os.getcwd())"
   ]
  },
  {
   "cell_type": "markdown",
   "id": "ae944f5d-e650-471b-b26a-3fd0eaaa9175",
   "metadata": {},
   "source": [
    "simulate a new email "
   ]
  },
  {
   "cell_type": "code",
   "execution_count": 11,
   "id": "820a20ee-5553-4f89-a9d7-2ce395a72ca1",
   "metadata": {},
   "outputs": [
    {
     "name": "stdout",
     "output_type": "stream",
     "text": [
      "Naive Bayes prediction: Ham\n",
      "Logistic Regression prediction: Ham\n"
     ]
    }
   ],
   "source": [
    "import re\n",
    "from collections import Counter\n",
    "\n",
    "# Spambase feature words and characters (from spambase.names)\n",
    "words = ['make', 'address', 'all', '3d', 'our', 'over', 'remove', 'internet',\n",
    "         'order', 'mail', 'receive', 'will', 'people', 'report', 'addresses',\n",
    "         'free', 'business', 'email', 'you', 'credit', 'your', 'font', '000',\n",
    "         'money', 'hp', 'hpl', 'george', '650', 'lab', 'labs', 'telnet', '857',\n",
    "         'data', '415', '85', 'technology', '1999', 'parts', 'pm', 'direct', 'cs',\n",
    "         'meeting', 'original', 'project', 're', 'edu', 'table', 'conference']\n",
    "chars = [';', '(', '[', '!', '$', '#']\n",
    "\n",
    "def extract_spambase_features(email_text):\n",
    "    # Convert to lowercase for consistency\n",
    "    email_text = email_text.lower()\n",
    "    words_total = len(re.findall(r'\\b\\w+\\b', email_text))\n",
    "    words_total = max(words_total, 1)  # Avoid division by zero\n",
    "\n",
    "    # Word frequencies\n",
    "    word_freqs = []\n",
    "    for word in words:\n",
    "        count = len(re.findall(r'\\b' + re.escape(word) + r'\\b', email_text))\n",
    "        freq = (count / words_total) * 100\n",
    "        word_freqs.append(freq)\n",
    "\n",
    "    # Character frequencies\n",
    "    char_freqs = []\n",
    "    for char in chars:\n",
    "        count = email_text.count(char)\n",
    "        freq = (count / len(email_text)) * 100\n",
    "        char_freqs.append(freq)\n",
    "\n",
    "    # Capital run lengths\n",
    "    capital_runs = []\n",
    "    current_run = 0\n",
    "    for char in email_text:\n",
    "        if char.isupper():\n",
    "            current_run += 1\n",
    "        else:\n",
    "            if current_run > 0:\n",
    "                capital_runs.append(current_run)\n",
    "            current_run = 0\n",
    "    if current_run > 0:\n",
    "        capital_runs.append(current_run)\n",
    "    \n",
    "    avg_capital_run = np.mean(capital_runs) if capital_runs else 0\n",
    "    longest_capital_run = max(capital_runs) if capital_runs else 0\n",
    "    total_capital_run = sum(capital_runs) if capital_runs else 0\n",
    "\n",
    "    # Combine features\n",
    "    features = word_freqs + char_freqs + [avg_capital_run, longest_capital_run, total_capital_run]\n",
    "    return np.array(features).reshape(1, -1)\n",
    "\n",
    "# Example email text\n",
    "email_text = \"\"\"\n",
    "Subject: Meeting Agenda for Project Update\n",
    "Dear Team, I hope you’re doing well. Please review the agenda for our meeting on Friday. We’ll discuss project progress, resource allocation, and next steps. \n",
    "Let me know if you have any questions. Best regards, John\n",
    "\"\"\"\n",
    "\n",
    "# Extract features\n",
    "email_features = extract_spambase_features(email_text)\n",
    "\n",
    "# Predict\n",
    "nb_pred = nb_model.predict(email_features)\n",
    "lr_pred = lr_model.predict(email_features)\n",
    "print(\"Naive Bayes prediction:\", \"Spam\" if nb_pred[0] == 1 else \"Ham\")\n",
    "print(\"Logistic Regression prediction:\", \"Spam\" if lr_pred[0] == 1 else \"Ham\")"
   ]
  },
  {
   "cell_type": "code",
   "execution_count": null,
   "id": "390db90b-8408-4a8c-afaa-66602850d89c",
   "metadata": {},
   "outputs": [],
   "source": []
  },
  {
   "cell_type": "code",
   "execution_count": null,
   "id": "7d2b2985-3026-402f-932b-f4ad53e73720",
   "metadata": {},
   "outputs": [],
   "source": []
  }
 ],
 "metadata": {
  "kernelspec": {
   "display_name": "Python 3 (ipykernel)",
   "language": "python",
   "name": "python3"
  },
  "language_info": {
   "codemirror_mode": {
    "name": "ipython",
    "version": 3
   },
   "file_extension": ".py",
   "mimetype": "text/x-python",
   "name": "python",
   "nbconvert_exporter": "python",
   "pygments_lexer": "ipython3",
   "version": "3.13.2"
  }
 },
 "nbformat": 4,
 "nbformat_minor": 5
}
